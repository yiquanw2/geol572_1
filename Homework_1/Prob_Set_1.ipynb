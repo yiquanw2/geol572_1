{
  "nbformat": 4,
  "nbformat_minor": 0,
  "metadata": {
    "kernelspec": {
      "display_name": "Python 3",
      "language": "python",
      "name": "python3"
    },
    "language_info": {
      "codemirror_mode": {
        "name": "ipython",
        "version": 3
      },
      "file_extension": ".py",
      "mimetype": "text/x-python",
      "name": "python",
      "nbconvert_exporter": "python",
      "pygments_lexer": "ipython3",
      "version": "3.7.4"
    },
    "colab": {
      "name": "Prob_Set_1.ipynb",
      "provenance": [],
      "include_colab_link": true
    }
  },
  "cells": [
    {
      "cell_type": "markdown",
      "metadata": {
        "id": "view-in-github",
        "colab_type": "text"
      },
      "source": [
        "<a href=\"https://colab.research.google.com/github/yiquanw2/geol572_1/blob/master/Homework_1/Prob_Set_1.ipynb\" target=\"_parent\"><img src=\"https://colab.research.google.com/assets/colab-badge.svg\" alt=\"Open In Colab\"/></a>"
      ]
    },
    {
      "cell_type": "markdown",
      "metadata": {
        "id": "WNICyTEQ1iC3",
        "colab_type": "text"
      },
      "source": [
        "# Problem Set 1: Python Introduction\n",
        "Due January 29th at 10:00 pm\n",
        "\n",
        "Before working on this notebook, I recommend creating a file called \"Working Problem Set 1\". When the file is ready to grade, make a copy and rename that copy \"Final Problem Set 1\". Make sure that \"Final Problem Set 1\" resides in the same folder that the problem set was originally assigned."
      ]
    },
    {
      "cell_type": "markdown",
      "metadata": {
        "id": "Kh-_zdSv1iC5",
        "colab_type": "text"
      },
      "source": [
        "## <center><font color='blue'>Problem 1</font></center>"
      ]
    },
    {
      "cell_type": "markdown",
      "metadata": {
        "id": "sMEYZqow1iC6",
        "colab_type": "text"
      },
      "source": [
        "\n",
        "Evaluate the following expressions for $x = 2\\pi$:\n",
        "<ul>\n",
        "    <li>$y = e^x$</li>\n",
        "    <li>$y = cos(x)$</li>\n",
        "    <li>$y = ln(x)$ <b>(Note: natural log)</b></li>\n",
        "    <li>$y = log(x)$ <b>(Note: log base 10)</b></li>\n",
        "    <li>$y = \\sqrt x$</li>\n",
        "    <li>$y = x^3$</li>\n",
        "    \n",
        "</ul>\n",
        "\n",
        "Use the six Code cells below with the corresponding comment:"
      ]
    },
    {
      "cell_type": "code",
      "metadata": {
        "id": "7H_rBueg1iC7",
        "colab_type": "code",
        "colab": {}
      },
      "source": [
        "# y = e^x"
      ],
      "execution_count": 0,
      "outputs": []
    },
    {
      "cell_type": "code",
      "metadata": {
        "id": "wR0ByIRs1iC-",
        "colab_type": "code",
        "colab": {}
      },
      "source": [
        "# y = cos(x)"
      ],
      "execution_count": 0,
      "outputs": []
    },
    {
      "cell_type": "code",
      "metadata": {
        "id": "4eXsdwmJ1iDA",
        "colab_type": "code",
        "colab": {}
      },
      "source": [
        "# y = ln(x)"
      ],
      "execution_count": 0,
      "outputs": []
    },
    {
      "cell_type": "code",
      "metadata": {
        "id": "AiGXasq41iDE",
        "colab_type": "code",
        "colab": {}
      },
      "source": [
        "# y = log(x)"
      ],
      "execution_count": 0,
      "outputs": []
    },
    {
      "cell_type": "code",
      "metadata": {
        "id": "4ucmnllE1iDG",
        "colab_type": "code",
        "colab": {}
      },
      "source": [
        "# y = sqrt(x)"
      ],
      "execution_count": 0,
      "outputs": []
    },
    {
      "cell_type": "code",
      "metadata": {
        "id": "16edBs1w1iDI",
        "colab_type": "code",
        "colab": {}
      },
      "source": [
        "# y = x^3"
      ],
      "execution_count": 0,
      "outputs": []
    },
    {
      "cell_type": "markdown",
      "metadata": {
        "id": "pnDyU78r1iDK",
        "colab_type": "text"
      },
      "source": [
        "<a href='#Top'>Return to top</a>"
      ]
    },
    {
      "cell_type": "markdown",
      "metadata": {
        "id": "uycANu061iDL",
        "colab_type": "text"
      },
      "source": [
        "## <center><font color='blue'>Problem 2</font></center>"
      ]
    },
    {
      "cell_type": "markdown",
      "metadata": {
        "id": "BVRHnOfb1iDL",
        "colab_type": "text"
      },
      "source": [
        "Fibonacci Numbers form a sequence such that each number is the sum of the previous two. The sequence goes as follows:\n",
        "\n",
        "0, 1, 1, 2, 3, 5, 8, 13, 21, 34, 55, ......\n",
        "\n",
        "https://en.wikipedia.org/wiki/Fibonacci_number\n",
        "\n",
        "In the following code block, assign the first two values in the Fibonacci Sequence, x = 0 and y = 1. Write a <b>while loop</b> that prints the rest of the Fibonacci Numbers in this sequence that are less than 10,000."
      ]
    },
    {
      "cell_type": "code",
      "metadata": {
        "id": "YBc5S3il1iDM",
        "colab_type": "code",
        "colab": {}
      },
      "source": [
        "# Write a while loop in this cell"
      ],
      "execution_count": 0,
      "outputs": []
    },
    {
      "cell_type": "markdown",
      "metadata": {
        "id": "39ffQdSW1iDO",
        "colab_type": "text"
      },
      "source": [
        "<a href='#Top'>Return to top</a>"
      ]
    },
    {
      "cell_type": "markdown",
      "metadata": {
        "id": "VZUOe2rw1iDP",
        "colab_type": "text"
      },
      "source": [
        "## <center><font color = \"blue\">Problem 3</font></center>"
      ]
    },
    {
      "cell_type": "markdown",
      "metadata": {
        "id": "ak8wIseD1iDQ",
        "colab_type": "text"
      },
      "source": [
        "\n",
        "Correct the code/markdown in the following cells based on the comment in each cell. "
      ]
    },
    {
      "cell_type": "code",
      "metadata": {
        "id": "KOD1oeaI1iDQ",
        "colab_type": "code",
        "colab": {}
      },
      "source": [
        "# This code attempts to run a for loop that counts from 1 to 10\n",
        "for x in 11:\n",
        "print(x)"
      ],
      "execution_count": 0,
      "outputs": []
    },
    {
      "cell_type": "code",
      "metadata": {
        "id": "XelkbglF1iDS",
        "colab_type": "code",
        "colab": {}
      },
      "source": [
        "# One groundwater modeling approximation, Dupuit-Forchheimer, is based on a mathematical trick that takes advantage of the fact that infinity times zero can equal anything. The following code attempts to determine what that product is, but something is wrong. Fix the code.\n",
        "# Hint: The answer should be \"nan\", which in Python means \"not a number\". We will talk more about nan's later in the semester.\n",
        "# Hint: Look through the documentation for the Math module.\n",
        "x = inf*0\n",
        "print(x)"
      ],
      "execution_count": 0,
      "outputs": []
    },
    {
      "cell_type": "code",
      "metadata": {
        "id": "S8vRv-dq1iDT",
        "colab_type": "code",
        "colab": {}
      },
      "source": [
        "# The following code attempts to calculate the cosine starting at 0 and ending at 360 degrees, in increments of sixty degrees.\n",
        "# Hint: The first and last output in the loop should be 1.0 , and there should be a total of 7 outputs in the loop.    \n",
        "for x in range(0,360,60)\n",
        "   y = cos(x)\n",
        "    print(x)"
      ],
      "execution_count": 0,
      "outputs": []
    },
    {
      "cell_type": "markdown",
      "metadata": {
        "id": "UBV_e65S1iDV",
        "colab_type": "text"
      },
      "source": [
        "<a href='#Top'>Return to top</a>"
      ]
    },
    {
      "cell_type": "markdown",
      "metadata": {
        "id": "1bf3XUA01iDV",
        "colab_type": "text"
      },
      "source": [
        "## <center><font color = \"blue\">Problem 4</font></center>"
      ]
    },
    {
      "cell_type": "markdown",
      "metadata": {
        "id": "Vy2mwOBf1iDW",
        "colab_type": "text"
      },
      "source": [
        "\n",
        "A sand aquifer extends under Champaign-Urbana:\n",
        "<ul>\n",
        "    <li>$k = 0.001$ $cm/s$</li>\n",
        "    <li>$n = 0.2$</li>\n",
        "    <li>$h1 = 205$ $m$</li>\n",
        "    <li>$h2 = 210$ $m$</li>\n",
        "    <li>$\\Delta l = 1$ $km$</li>\n",
        "</ul>\n",
        "\n",
        "Where k is the hydraulic conductivity, n is the porosity, h1 and h2 are the heads at a distance of $\\Delta l$ apart.\n",
        "\n",
        "Write codes that calculate: 1) the hydraulic gradient, 2) specific discharge, 3) groundwater velocity, and 4) transit time of groundwater over the distance $\\Delta l$. Use the four Code Cells below."
      ]
    },
    {
      "cell_type": "code",
      "metadata": {
        "id": "JQS9hYnvMcKw",
        "colab_type": "code",
        "colab": {}
      },
      "source": [
        "k = 0.001\n",
        "n = 0.2\n",
        "h1 = 205\n",
        "h2 = 210\n",
        "l = 1000"
      ],
      "execution_count": 0,
      "outputs": []
    },
    {
      "cell_type": "code",
      "metadata": {
        "id": "LSTCk9X91iDX",
        "colab_type": "code",
        "colab": {
          "base_uri": "https://localhost:8080/",
          "height": 35
        },
        "outputId": "188fdbea-1a78-47f6-c092-378b06ff28fb"
      },
      "source": [
        "# hydraulic gradient (no units)\n",
        "i = (h1-h2)/l\n",
        "print(i)"
      ],
      "execution_count": 22,
      "outputs": [
        {
          "output_type": "stream",
          "text": [
            "-0.005\n"
          ],
          "name": "stdout"
        }
      ]
    },
    {
      "cell_type": "code",
      "metadata": {
        "scrolled": true,
        "id": "SzC3ARba1iDY",
        "colab_type": "code",
        "colab": {
          "base_uri": "https://localhost:8080/",
          "height": 35
        },
        "outputId": "26603330-a3e0-4465-cd4b-de39a35f3e55"
      },
      "source": [
        "# specific discharge (m/day)\n",
        "q = -k * i * 10**(-2) * 86400\n",
        "print(q)"
      ],
      "execution_count": 23,
      "outputs": [
        {
          "output_type": "stream",
          "text": [
            "0.00432\n"
          ],
          "name": "stdout"
        }
      ]
    },
    {
      "cell_type": "code",
      "metadata": {
        "id": "fuB2AXm91iDa",
        "colab_type": "code",
        "colab": {
          "base_uri": "https://localhost:8080/",
          "height": 35
        },
        "outputId": "82fe4c57-9b61-4069-ee81-d82db9650c71"
      },
      "source": [
        "# groundwater velocity (m/day)\n",
        "v = q/n\n",
        "print(v)"
      ],
      "execution_count": 24,
      "outputs": [
        {
          "output_type": "stream",
          "text": [
            "0.021599999999999998\n"
          ],
          "name": "stdout"
        }
      ]
    },
    {
      "cell_type": "code",
      "metadata": {
        "id": "Xrgt40EI1iDc",
        "colab_type": "code",
        "colab": {
          "base_uri": "https://localhost:8080/",
          "height": 35
        },
        "outputId": "b1a1b604-1dd4-45d4-aab1-8fa303847377"
      },
      "source": [
        "# transit time (years)\n",
        "t = l/v/365\n",
        "print(t)"
      ],
      "execution_count": 25,
      "outputs": [
        {
          "output_type": "stream",
          "text": [
            "126.83916793505836\n"
          ],
          "name": "stdout"
        }
      ]
    },
    {
      "cell_type": "markdown",
      "metadata": {
        "id": "gwNFfKLe1iDd",
        "colab_type": "text"
      },
      "source": [
        "<a href='#Top'>Return to top</a>"
      ]
    }
  ]
}