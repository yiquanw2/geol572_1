{
  "nbformat": 4,
  "nbformat_minor": 0,
  "metadata": {
    "kernelspec": {
      "display_name": "Python 3",
      "language": "python",
      "name": "python3"
    },
    "language_info": {
      "codemirror_mode": {
        "name": "ipython",
        "version": 3
      },
      "file_extension": ".py",
      "mimetype": "text/x-python",
      "name": "python",
      "nbconvert_exporter": "python",
      "pygments_lexer": "ipython3",
      "version": "3.7.4"
    },
    "colab": {
      "name": "Week_1_Python_Lecture.ipynb",
      "provenance": []
    }
  },
  "cells": [
    {
      "cell_type": "markdown",
      "metadata": {
        "id": "flsu_eek1Sfe",
        "colab_type": "text"
      },
      "source": [
        "# Week 1 Lecture Notes: Jupyter Notebook Primer and Python as a Calculator\n",
        "\n",
        "<ul>\n",
        "    <li><a href='#JupyterNotebook'>I. Jupyter Notebook</a></li>\n",
        "    <li><a href='#FirstPythonCode'>II. First Python Code</a></li>\n",
        "    <li><a href='#IntFloat'>III. Integers and Floats</a></li>\n",
        "    <li><a href='#ModPackLib'>IV. Modules, Packages, and Libraries</a></li>\n",
        "    <li><a href='#Loops'>V. Loops</a></li>\n",
        "</ul>"
      ]
    },
    {
      "cell_type": "markdown",
      "metadata": {
        "id": "s_R_eTVZ1Sfg",
        "colab_type": "text"
      },
      "source": [
        "<a id='JupyterNotebook'></a>\n",
        "# I. Jupyter Notebook\n",
        "Jupyter Notebook is an open-source web application that allows the creation and sharing of documents that contain live code, equations, visualizations and narrative text. More details at: https://jupyter.org/.\n",
        "\n",
        "Most assignments in this class will be completed using Jupyter Notebooks. We are going to leverage its powerful story-telling capabilities integrated with codes in lieu of written reports. However, for longer codes, we need more powerful troubleshooting capabilities, so will be using an integrated development environment (IDE) called Spyder later in the semester."
      ]
    },
    {
      "cell_type": "markdown",
      "metadata": {
        "id": "kEITskPs1Sfh",
        "colab_type": "text"
      },
      "source": [
        "### Cells \n",
        "\n",
        "All content in Jupyter Notebook is written within a cell. There are two types of cells that we will use this semester:\n",
        "<ul>\n",
        "    <li> Code: Contains Python code, or another language depending on the selected kernel</li>\n",
        "    <li> Markdown: Markdown is a text-to-HTML conversion tool for web writers. Contains explanatory text</li>\n",
        "</ul>\n",
        "\n",
        "There is a third cell type, `Raw`, but we will not be using it this semester. \n"
      ]
    },
    {
      "cell_type": "markdown",
      "metadata": {
        "id": "MRwud5J41Sfi",
        "colab_type": "text"
      },
      "source": [
        "### Markdown Cells\n",
        "\n",
        "Click on this paragraph <b>once</b>, you will see the cell outline. _This is a Markdown cell._ There are a number of tags that can be used within a Markdown cell to control formatting (italicize, bold, change font color, etc.). <b><font color='green'>Double-click in this cell to see an example of Markdown tags, then press `Ctrl+Enter` to run the cell.</font></b>\n",
        "\n",
        "More details on Markdown can be found at: https://daringfireball.net/projects/markdown/. We will discuss different formatting options as the semester progresses.\n"
      ]
    },
    {
      "cell_type": "markdown",
      "metadata": {
        "id": "qJDATsn91Sfi",
        "colab_type": "text"
      },
      "source": [
        "### By default, all new cells added are Code cells.\n",
        "You can easily add a new cell simply by pressing \"b\". The new cell will be added <b>below</b> the currently selected cell. <b>Note that you cannot use this shortcut if you are currently editing a cell.</b> Conversely, if you want to add a cell above the currently selected cell, press \"a\"."
      ]
    },
    {
      "cell_type": "markdown",
      "metadata": {
        "id": "hs33S9y91Sfj",
        "colab_type": "text"
      },
      "source": [
        "### Changing Cell Types\n",
        "You may always use the Jupyter menu bar to change Cell types, but you can also use shortcuts when the cell is selected:\n",
        "<ul>\n",
        "    <li>\"m\": Markdown</li>\n",
        "    <li>\"y\": Code</li>\n",
        "</ul>\n",
        "\n",
        "If you are in a Code cell, you should see \"[]\" to the left of the cell. These brackets will not be present in a Markdown cell.\n",
        "\n",
        "<b>If you are like me, you will get in a hurry at some point this semester and accidentally hit the `r` button while a cell is selected but not editable. This will convert the cell to a `raw` format, which means it probably will not work like expected.</b>\n"
      ]
    },
    {
      "cell_type": "markdown",
      "metadata": {
        "id": "wI9IqtFj1Sfj",
        "colab_type": "text"
      },
      "source": [
        "### Markdown cells also allow for writing equations with LaTeX\n",
        "LaTeX is a typesetting code that is particularly powerful when typesetting mathematical formulas. Compare a very familiar equation without LaTeX: \n",
        "\n",
        "E = mc^2\n",
        "\n",
        "to the same equation using LateX:\n",
        "\n",
        "$E = mc^2$\n",
        "\n",
        "\n",
        "To signify that LaTeX's mathematical funcationality is being used, simply place the equation between two dollar signs (\\$equation\\$) when typing the Markdown Cell. Here are some examples of equations created with LaTeX. Double click in this cell to see the formatting commands:\n",
        "<ul>\n",
        "    <li>Subscripts: $B_c$, $B_{c0}$</li>\n",
        "    <li>Fractions: $x/y$, $\\frac{x}{y}$</li>\n",
        "    <li>Symbols: $\\Delta$, $\\pi$, $\\infty$</li>\n",
        "    <li>Exponential: $e^5$, $e^{5000}$</li>\n",
        "</ul>\n",
        "\n",
        "Much more on LaTeX math can be found at: https://artofproblemsolving.com/wiki/index.php/LaTeX:Symbols"
      ]
    },
    {
      "cell_type": "markdown",
      "metadata": {
        "id": "srvk14DA1Sfk",
        "colab_type": "text"
      },
      "source": [
        "### Adding images in Markdown\n",
        "\n",
        "There are a number of ways to add images with Markdown. Perhaps the easiest is to link to an image already on the web. Double click on this cell to see how easy it is to add an image.\n",
        "\n",
        "![John Cleese](https://m.media-amazon.com/images/M/MV5BODYzZWU2MmItMDYzNS00OGJjLWE4NTAtYjMyZjBiNTY5OTcxXkEyXkFqcGdeQXVyNTAyNDQ2NjI@._V1_SY1000_CR0,0,1493,1000_AL_.jpg)\n",
        "\n",
        "John Cleese as Tim the Enchanter from \"Monty Python and the Holy Grail\", https://www.imdb.com/title/tt0071853/mediaviewer/rm1556617984. \n",
        "\n",
        "Fun fact, the name Python was inspired by the Monty Python comedy team (more specifically, the Flying Circus television series)."
      ]
    },
    {
      "cell_type": "markdown",
      "metadata": {
        "id": "gS6p8KTt1Sfl",
        "colab_type": "text"
      },
      "source": [
        "<a id='FirstPythonCode'></a>\n",
        "# II. First Python code\n"
      ]
    },
    {
      "cell_type": "markdown",
      "metadata": {
        "id": "DIrsiHop1Sfl",
        "colab_type": "text"
      },
      "source": [
        "### Code Cells\n",
        "Code cells run the computer language as determined by the Kernel selected in Jupyter. The current active kernel is in the upper-right corner of the screen. We are going to use Python 3 almost exclusively in this course, although we will do an example later in the semester where we use a different kernel. "
      ]
    },
    {
      "cell_type": "markdown",
      "metadata": {
        "id": "U8jRbEtu1Sfm",
        "colab_type": "text"
      },
      "source": [
        "Let's start with the classic coding problem where we print the words \"Hello World!\". Run the following code, and then think about what is happening here."
      ]
    },
    {
      "cell_type": "code",
      "metadata": {
        "id": "SvgEsoOw1Sfn",
        "colab_type": "code",
        "colab": {}
      },
      "source": [
        "print(\"Hello World!\")\n",
        "# this is a comment"
      ],
      "execution_count": 0,
      "outputs": []
    },
    {
      "cell_type": "markdown",
      "metadata": {
        "id": "7EtBdCZT1Sfp",
        "colab_type": "text"
      },
      "source": [
        "<ul>\n",
        "    <li> print() is a function that acts on the argument between the parentheses.</li>\n",
        "    <li> \"Hello World!\" is the argument (also referred to as a parameter) input into the function.</li>\n",
        "    <li> # is used to define a comment; it does not impact the Python code but is a good way to add brief thoughts regarding your Python code</li>\n",
        "</ul>"
      ]
    },
    {
      "cell_type": "markdown",
      "metadata": {
        "id": "wAoyrHln1Sfq",
        "colab_type": "text"
      },
      "source": [
        "We briefly discussed that Python 2 and 3 are both still in use depending on applications. One of the major differences between the two is how to print a string."
      ]
    },
    {
      "cell_type": "markdown",
      "metadata": {
        "id": "qFjTJQKM1Sfq",
        "colab_type": "text"
      },
      "source": [
        "### Variables\n",
        "Note that we could also define \"Hello World!\" as a variable."
      ]
    },
    {
      "cell_type": "code",
      "metadata": {
        "id": "TelhHy1Z1Sfr",
        "colab_type": "code",
        "colab": {}
      },
      "source": [
        "x = \"Hello World!\"\n",
        "print(x)"
      ],
      "execution_count": 0,
      "outputs": []
    },
    {
      "cell_type": "markdown",
      "metadata": {
        "id": "qPsv-WrI1Sfu",
        "colab_type": "text"
      },
      "source": [
        "It is important to keep track of the variable type, which can be determined with the function *type()*."
      ]
    },
    {
      "cell_type": "code",
      "metadata": {
        "id": "Q2BJJ2uj1Sfu",
        "colab_type": "code",
        "colab": {}
      },
      "source": [
        "type(x)"
      ],
      "execution_count": 0,
      "outputs": []
    },
    {
      "cell_type": "markdown",
      "metadata": {
        "id": "jzWtqvTW1Sfw",
        "colab_type": "text"
      },
      "source": [
        "In this case, *x* is a string. When defining a string variable, use \"string\" or 'string'."
      ]
    },
    {
      "cell_type": "code",
      "metadata": {
        "id": "Uoo1AKuw1Sfx",
        "colab_type": "code",
        "colab": {}
      },
      "source": [
        "x = 'Hello World!'\n",
        "print(x)\n",
        "type(x)"
      ],
      "execution_count": 0,
      "outputs": []
    },
    {
      "cell_type": "markdown",
      "metadata": {
        "id": "HDWsBkcK1Sfz",
        "colab_type": "text"
      },
      "source": [
        "What if quotation marks aren't used?"
      ]
    },
    {
      "cell_type": "code",
      "metadata": {
        "id": "mVTjwaMn1Sfz",
        "colab_type": "code",
        "colab": {}
      },
      "source": [
        "x = Hello World!"
      ],
      "execution_count": 0,
      "outputs": []
    },
    {
      "cell_type": "markdown",
      "metadata": {
        "id": "Jk_yfSPW1Sf1",
        "colab_type": "text"
      },
      "source": [
        "The error that occurs is a common one, syntax error. Syntax is the set of rules that define a programming language- trying to define a string without quotation marks is against the rules of Python.\n",
        "\n",
        "Now let's try printing the number 42."
      ]
    },
    {
      "cell_type": "code",
      "metadata": {
        "id": "Dcjr84Yi1Sf1",
        "colab_type": "code",
        "colab": {}
      },
      "source": [
        "x = 42\n",
        "print(x)\n",
        "type(x)"
      ],
      "execution_count": 0,
      "outputs": []
    },
    {
      "cell_type": "markdown",
      "metadata": {
        "id": "yB030L2d1Sf3",
        "colab_type": "text"
      },
      "source": [
        "This still works, but the type is not a string but rather an integer. No problem, until we try to print a sentence with the number 42 embedded."
      ]
    },
    {
      "cell_type": "code",
      "metadata": {
        "id": "SQQoElNK1Sf4",
        "colab_type": "code",
        "colab": {}
      },
      "source": [
        "x = 42\n",
        "print('My favorite number is '+x)"
      ],
      "execution_count": 0,
      "outputs": []
    },
    {
      "cell_type": "markdown",
      "metadata": {
        "id": "lYg21hef1Sf6",
        "colab_type": "text"
      },
      "source": [
        "It is often easy to switch variable types. The function str() does a number of things, including changing integers to strings.  "
      ]
    },
    {
      "cell_type": "code",
      "metadata": {
        "id": "RhHAFsGG1Sf6",
        "colab_type": "code",
        "colab": {}
      },
      "source": [
        "# add two strings together, must convert\n",
        "x = 42\n",
        "print('My favorite number is ' +str(x))"
      ],
      "execution_count": 0,
      "outputs": []
    },
    {
      "cell_type": "markdown",
      "metadata": {
        "id": "CwsoVUnl1Sf9",
        "colab_type": "text"
      },
      "source": [
        "Python 3 introduced an alternative to printing statements that include both strings and integers, as shown below."
      ]
    },
    {
      "cell_type": "code",
      "metadata": {
        "id": "ps7Z-SXe1Sf_",
        "colab_type": "code",
        "colab": {}
      },
      "source": [
        "# can also print with different data types\n",
        "# in this case, print(string,integer)\n",
        "x = 42\n",
        "print('My favorite number is',x)"
      ],
      "execution_count": 0,
      "outputs": []
    },
    {
      "cell_type": "markdown",
      "metadata": {
        "id": "sc9En9fy1SgB",
        "colab_type": "text"
      },
      "source": [
        "`Print` underwent many changes between Python 2 and 3. Try changing the kernel for the following cells blocks between Python 2 and 3 to see how `print` is impacted."
      ]
    },
    {
      "cell_type": "code",
      "metadata": {
        "id": "WyE--xMr1SgB",
        "colab_type": "code",
        "colab": {}
      },
      "source": [
        "# Python 2 had a print statement, and not just a function. The print statement was removed in Python 3.\n",
        "print \"Hello World\""
      ],
      "execution_count": 0,
      "outputs": []
    },
    {
      "cell_type": "code",
      "metadata": {
        "id": "9rY61kPE1SgD",
        "colab_type": "code",
        "colab": {}
      },
      "source": [
        "# The print function is available in both Python 2 and 3, and often yields the same results\n",
        "print(\"Hello World\")\n",
        "print(\"Hello World, \" + \"Nice to Meet You\")"
      ],
      "execution_count": 0,
      "outputs": []
    },
    {
      "cell_type": "code",
      "metadata": {
        "id": "EU7Dxnqa1SgE",
        "colab_type": "code",
        "colab": {}
      },
      "source": [
        "# However, there are still some differences\n",
        "print(\"Hello World,\",\"Nice to Meet You\")"
      ],
      "execution_count": 0,
      "outputs": []
    },
    {
      "cell_type": "code",
      "metadata": {
        "id": "KT33N1UO1SgI",
        "colab_type": "code",
        "colab": {}
      },
      "source": [
        ""
      ],
      "execution_count": 0,
      "outputs": []
    },
    {
      "cell_type": "markdown",
      "metadata": {
        "id": "bxYOHtlY1SgJ",
        "colab_type": "text"
      },
      "source": [
        "Many applications, including ArcGIS andn QGIS, still rely on Python 2. Understanding the often subtle differences in the code can be important if using packages related to these GIS programs."
      ]
    },
    {
      "cell_type": "markdown",
      "metadata": {
        "id": "SjYdQBiI1SgK",
        "colab_type": "text"
      },
      "source": [
        "<b>Before proceeding, make sure you have selected a Python 3 kernel. </b>"
      ]
    },
    {
      "cell_type": "markdown",
      "metadata": {
        "id": "7VjDbsX91SgK",
        "colab_type": "text"
      },
      "source": [
        "<a id='IntFloat'></a>\n",
        "# III. Integers and Floats\n",
        "We have already seen two different variable types, integers and strings. We are going to put strings on the back-burner for a few weeks, and instead focus on integers and floats. Floats are determined by adding a decimal point."
      ]
    },
    {
      "cell_type": "code",
      "metadata": {
        "id": "-Br21Sen1SgL",
        "colab_type": "code",
        "colab": {}
      },
      "source": [
        "#integer\n",
        "x = 5\n",
        "type(x)"
      ],
      "execution_count": 0,
      "outputs": []
    },
    {
      "cell_type": "code",
      "metadata": {
        "id": "O8lLwtIJ1SgP",
        "colab_type": "code",
        "colab": {}
      },
      "source": [
        "#float\n",
        "x = 4.\n",
        "type(x)"
      ],
      "execution_count": 0,
      "outputs": []
    },
    {
      "cell_type": "markdown",
      "metadata": {
        "id": "VBY1DbOl1SgR",
        "colab_type": "text"
      },
      "source": [
        "You might have noticed by now that we have defined and redefined the variable x a number of times. Python variables are dynamic, and can change multiple times throughout a code. It is prudent to keep track of the variable type, particularly because some functions require an integer or a float as an argument. See the code below to see how easy it is for a variable to change from an integer to a float."
      ]
    },
    {
      "cell_type": "code",
      "metadata": {
        "id": "XToFOo9u1SgR",
        "colab_type": "code",
        "colab": {}
      },
      "source": [
        "x = 5\n",
        "print(x,type(x))\n",
        "y = 1.\n",
        "x = x/y\n",
        "print(x,type(x))"
      ],
      "execution_count": 0,
      "outputs": []
    },
    {
      "cell_type": "markdown",
      "metadata": {
        "id": "N3cINTDl1SgS",
        "colab_type": "text"
      },
      "source": [
        "<a id='ModPackLib'></a>\n",
        "# IV. Modules, Packages, and Libraries\n",
        "Basic Python is actually rather limited in its mathematical capabilities (see below for a list of arithmetic operations in basic Python). "
      ]
    },
    {
      "cell_type": "markdown",
      "metadata": {
        "id": "2WENVt9W1SgT",
        "colab_type": "text"
      },
      "source": [
        "### Basic arithmetic operations\n",
        "\n",
        "Standard python recognizes basic mathematical operations\n",
        "\n",
        "|Operator | Description | Example|\n",
        "|--------|--------|--------|\n",
        "| `+` | Addition | `11+2` |\n",
        "| `-` | Subtraction | `11-2` |\n",
        "| `*` | Multiplication | `11*2`|\n",
        "| `/` | Division | `11/2` |\n",
        "| `**` | Exponentiation/power calculation | `2**3`|\n",
        "| `%` | Modulus | `11%2` |\n",
        "| `//` | Integer Division | `11//2` |\n",
        "\n"
      ]
    },
    {
      "cell_type": "markdown",
      "metadata": {
        "id": "860VEln21SgU",
        "colab_type": "text"
      },
      "source": [
        "What if we want to evaluate something slightly more complicated, but still within the capabilities of a cheap scientific calculator:\n",
        "$y = sin(\\pi)$"
      ]
    },
    {
      "cell_type": "code",
      "metadata": {
        "id": "IdBOZyxQ1SgU",
        "colab_type": "code",
        "colab": {}
      },
      "source": [
        "# pi() is not a function in basic Python\n",
        "x = pi()"
      ],
      "execution_count": 0,
      "outputs": []
    },
    {
      "cell_type": "code",
      "metadata": {
        "id": "7hk37Iwh1SgW",
        "colab_type": "code",
        "colab": {}
      },
      "source": [
        "# neither is sin()\n",
        "y = sin(3.14)"
      ],
      "execution_count": 0,
      "outputs": []
    },
    {
      "cell_type": "markdown",
      "metadata": {
        "id": "T1IFdIdk1SgX",
        "colab_type": "text"
      },
      "source": [
        "However, Python has numerous packages, libraries, and modules to supplement the basic language. For now, there is no need to concern yourself with the differences between the three- they are all brought into Python the same way. There is a large Python community that develops and maintains modules, packages, and libraries.\n",
        "\n",
        "Let's import the math module. For more on the math module, see: https://docs.python.org/2/library/math.html"
      ]
    },
    {
      "cell_type": "code",
      "metadata": {
        "id": "zuEA38pY1SgY",
        "colab_type": "code",
        "colab": {}
      },
      "source": [
        "import math"
      ],
      "execution_count": 0,
      "outputs": []
    },
    {
      "cell_type": "markdown",
      "metadata": {
        "id": "0gQ6UA-H1SgZ",
        "colab_type": "text"
      },
      "source": [
        "To use the math module (or any module, library, package), you need to type `math.function()` or `math.constant`. Since pi is a constant, we type `math.pi` "
      ]
    },
    {
      "cell_type": "code",
      "metadata": {
        "id": "1eN8YdK71Sga",
        "colab_type": "code",
        "colab": {}
      },
      "source": [
        "x = math.pi\n",
        "print(x)"
      ],
      "execution_count": 0,
      "outputs": []
    },
    {
      "cell_type": "markdown",
      "metadata": {
        "id": "MWlnrfvc1Sgb",
        "colab_type": "text"
      },
      "source": [
        "To calculate sine, we now need to use y = math.sin()"
      ]
    },
    {
      "cell_type": "code",
      "metadata": {
        "id": "yT7tVI7u1Sgc",
        "colab_type": "code",
        "outputId": "d80d46f7-5392-464e-9413-1272f63ceeb9",
        "colab": {}
      },
      "source": [
        "import math\n",
        "x = math.pi\n",
        "y = math.sin(x)\n",
        "print(y)"
      ],
      "execution_count": 0,
      "outputs": [
        {
          "output_type": "stream",
          "text": [
            "1.2246467991473532e-16\n"
          ],
          "name": "stdout"
        }
      ]
    },
    {
      "cell_type": "markdown",
      "metadata": {
        "id": "r0I-pqZ61Sgf",
        "colab_type": "text"
      },
      "source": [
        "<a id='Loops'></a>\n",
        "# V. Loops\n",
        "Loops iterate over a sequence of numbers, either a specified number of times or when a specific condition is met."
      ]
    },
    {
      "cell_type": "markdown",
      "metadata": {
        "id": "AyxGDSEk1Sgg",
        "colab_type": "text"
      },
      "source": [
        "### For loops\n",
        "For-loops run through a range of values. The syntax for a for-loop is shown below.\n",
        "\n",
        "`for` defines that this is a for for-loop.\n",
        "\n",
        "`x` is the iterator in the for-loop.\n",
        "\n",
        "`range()` is a function that controls the number of iterations. The argument is the `stop` value. \n",
        "\n",
        "Think about what the following Code Cell will generate when run. Did it do what you expected?"
      ]
    },
    {
      "cell_type": "code",
      "metadata": {
        "scrolled": true,
        "id": "tnyZhbf11Sgg",
        "colab_type": "code",
        "outputId": "323a4497-ef8a-430f-9532-fab1013afeb7",
        "colab": {}
      },
      "source": [
        "for x in range(1,5):\n",
        "    print(x)"
      ],
      "execution_count": 0,
      "outputs": [
        {
          "output_type": "stream",
          "text": [
            "1\n",
            "2\n",
            "3\n",
            "4\n"
          ],
          "name": "stdout"
        }
      ]
    },
    {
      "cell_type": "markdown",
      "metadata": {
        "id": "pL0dKGv81Sgi",
        "colab_type": "text"
      },
      "source": [
        "# Wait, what? When we print the iterator, it starts at 0 and ends at 4. Many new and experienced programmers probably expected this to start at 1 and end at 5, particularly if your prior programming experience is in Matlab. However, Python is 0-indexed, which shifts everything one to the left.\n",
        "\n",
        "Think of it this way:\n",
        "<ul>\n",
        "    <li>0 $\\Rightarrow$ 0-1</li>\n",
        "    <li>1 $\\Rightarrow$ 1-2</li>\n",
        "    <li>2 $\\Rightarrow$ 2-3</li>\n",
        "    <li>3 $\\Rightarrow$ 3-4</li>\n",
        "    <li>4 $\\Rightarrow$ 4-5</li>\n",
        "</ul>\n",
        "\n",
        "As a result, `range(5)` looks at $0 \\Rightarrow 5$. Hence, when interating through the indices, it goes 0, 1, 2, 3, 4, <b>NOT</b> 1, 2, 3, 4, 5.\n",
        "\n",
        "`range()` has additional, optional arguments. When two arguments are used, the first represents `start` and the last represents `stop`."
      ]
    },
    {
      "cell_type": "code",
      "metadata": {
        "id": "LJSPKfW_1Sgi",
        "colab_type": "code",
        "colab": {}
      },
      "source": [
        "for x in range(1,5):\n",
        "    print(x)"
      ],
      "execution_count": 0,
      "outputs": []
    },
    {
      "cell_type": "markdown",
      "metadata": {
        "id": "FPF-PSW51Sgk",
        "colab_type": "text"
      },
      "source": [
        "`range()` has a third optional argument that represents the size of the increment (which defaults to 1 when not specified). It is the third argument when present."
      ]
    },
    {
      "cell_type": "code",
      "metadata": {
        "scrolled": true,
        "id": "wKqx8emb1Sgk",
        "colab_type": "code",
        "outputId": "3a39b4be-5c1e-43dd-f6de-a9e3db276db5",
        "colab": {}
      },
      "source": [
        "for x in range(1,5,2):\n",
        "    print(x)"
      ],
      "execution_count": 0,
      "outputs": [
        {
          "output_type": "stream",
          "text": [
            "1\n",
            "3\n"
          ],
          "name": "stdout"
        }
      ]
    },
    {
      "cell_type": "markdown",
      "metadata": {
        "id": "QOjpeiYk1Sgm",
        "colab_type": "text"
      },
      "source": [
        "If we want to print all of the odd numbers from 1 to 9, we can write the following for-loop. Note that due to Python indexing, we have to go over the upper value we want."
      ]
    },
    {
      "cell_type": "code",
      "metadata": {
        "id": "dhHKMi7_1Sgm",
        "colab_type": "code",
        "outputId": "fb94c77f-491b-4913-a594-792e1af4cccd",
        "colab": {}
      },
      "source": [
        "for x in range(1,10,2):\n",
        "    print(x)"
      ],
      "execution_count": 0,
      "outputs": [
        {
          "output_type": "stream",
          "text": [
            "1\n",
            "3\n",
            "5\n",
            "7\n",
            "9\n"
          ],
          "name": "stdout"
        }
      ]
    },
    {
      "cell_type": "markdown",
      "metadata": {
        "id": "HVmHXsx31Sgo",
        "colab_type": "text"
      },
      "source": [
        "Note that this upper limit must be an integer. Note the \"TypeError\" in the following code."
      ]
    },
    {
      "cell_type": "code",
      "metadata": {
        "id": "mDjfK0Pg1Sgo",
        "colab_type": "code",
        "outputId": "fdde6b31-beb9-4472-c811-2a32a057bb31",
        "colab": {}
      },
      "source": [
        "# This code fails\n",
        "for x in range(1,9.1,2):\n",
        "    print(x)"
      ],
      "execution_count": 0,
      "outputs": [
        {
          "output_type": "error",
          "ename": "TypeError",
          "evalue": "'float' object cannot be interpreted as an integer",
          "traceback": [
            "\u001b[0;31m---------------------------------------------------------------------------\u001b[0m",
            "\u001b[0;31mTypeError\u001b[0m                                 Traceback (most recent call last)",
            "\u001b[0;32m<ipython-input-7-a71a471ba875>\u001b[0m in \u001b[0;36m<module>\u001b[0;34m()\u001b[0m\n\u001b[1;32m      1\u001b[0m \u001b[0;31m# This code fails\u001b[0m\u001b[0;34m\u001b[0m\u001b[0;34m\u001b[0m\u001b[0m\n\u001b[0;32m----> 2\u001b[0;31m \u001b[0;32mfor\u001b[0m \u001b[0mx\u001b[0m \u001b[0;32min\u001b[0m \u001b[0mrange\u001b[0m\u001b[0;34m(\u001b[0m\u001b[0;36m1\u001b[0m\u001b[0;34m,\u001b[0m\u001b[0;36m9.1\u001b[0m\u001b[0;34m,\u001b[0m\u001b[0;36m2\u001b[0m\u001b[0;34m)\u001b[0m\u001b[0;34m:\u001b[0m\u001b[0;34m\u001b[0m\u001b[0m\n\u001b[0m\u001b[1;32m      3\u001b[0m     \u001b[0mprint\u001b[0m\u001b[0;34m(\u001b[0m\u001b[0mx\u001b[0m\u001b[0;34m)\u001b[0m\u001b[0;34m\u001b[0m\u001b[0m\n",
            "\u001b[0;31mTypeError\u001b[0m: 'float' object cannot be interpreted as an integer"
          ]
        }
      ]
    },
    {
      "cell_type": "markdown",
      "metadata": {
        "id": "YmTWgiMw1Sgq",
        "colab_type": "text"
      },
      "source": [
        "Now let's perform an arithmetic operation within the loop."
      ]
    },
    {
      "cell_type": "code",
      "metadata": {
        "id": "HVib53dy1Sgr",
        "colab_type": "code",
        "outputId": "05d2ef1f-be0f-4176-bb2d-2a8d3ae9b309",
        "colab": {}
      },
      "source": [
        "for x in range(5):\n",
        "    y = x**2\n",
        "    print(y)"
      ],
      "execution_count": 0,
      "outputs": [
        {
          "output_type": "stream",
          "text": [
            "0\n",
            "1\n",
            "4\n",
            "9\n",
            "16\n"
          ],
          "name": "stdout"
        }
      ]
    },
    {
      "cell_type": "markdown",
      "metadata": {
        "id": "vfiInRRa1Sgs",
        "colab_type": "text"
      },
      "source": [
        "You may have noticed that each loop includes two important features. The first line of the loop ends with a colon. Each of the subsequent lines are shifted to the right by a single tab. These tabs are not only white-space for purposes of display. The indentation is critical in the Python code, and must be consistently used throughout the code. Note the errors in the following loops:"
      ]
    },
    {
      "cell_type": "code",
      "metadata": {
        "id": "3Ogv13-K1Sgt",
        "colab_type": "code",
        "outputId": "95ca1781-0de1-40cd-ffa5-54913305ff7a",
        "colab": {}
      },
      "source": [
        "# invalid syntax when colon is omitted\n",
        "for x in range(5):\n",
        "    y = x**2\n",
        "    print(y)"
      ],
      "execution_count": 0,
      "outputs": [
        {
          "output_type": "stream",
          "text": [
            "0\n",
            "1\n",
            "4\n",
            "9\n",
            "16\n"
          ],
          "name": "stdout"
        }
      ]
    },
    {
      "cell_type": "code",
      "metadata": {
        "id": "O7RWfxMg1Sgu",
        "colab_type": "code",
        "outputId": "11e359da-89d0-4c8f-ca41-a34fc7ee8cda",
        "colab": {}
      },
      "source": [
        "#Indentation error when spacing is not consistent\n",
        "for x in range(5):\n",
        "    y = x**2\n",
        "    print(y)"
      ],
      "execution_count": 0,
      "outputs": [
        {
          "output_type": "stream",
          "text": [
            "0\n",
            "1\n",
            "4\n",
            "9\n",
            "16\n"
          ],
          "name": "stdout"
        }
      ]
    },
    {
      "cell_type": "markdown",
      "metadata": {
        "id": "YpbN6Mua1Sgw",
        "colab_type": "text"
      },
      "source": [
        "### While loops\n",
        "While defines another type of loop that stops at some condition. The format is similar to a for-loop, but action has to be taken on the iterator within the loop. "
      ]
    },
    {
      "cell_type": "code",
      "metadata": {
        "id": "5WJuFOmp1Sgx",
        "colab_type": "code",
        "outputId": "ac750c5a-65ad-4426-d508-cc0c74c40045",
        "colab": {}
      },
      "source": [
        "x = 5\n",
        "while x<=10:\n",
        "    print(x)\n",
        "    x = x+1"
      ],
      "execution_count": 0,
      "outputs": [
        {
          "output_type": "stream",
          "text": [
            "5\n",
            "6\n",
            "7\n",
            "8\n",
            "9\n",
            "10\n"
          ],
          "name": "stdout"
        }
      ]
    },
    {
      "cell_type": "markdown",
      "metadata": {
        "id": "-TsVecCe1Sgz",
        "colab_type": "text"
      },
      "source": [
        "It is easy to see that if x is not modified within the loop, then x will always be less than 10. This is referred to as <b><font color = 'red'>the dreaded \"infinite loop\"</font></b>. If you really want to try it, go right ahead, but be aware of where the \"stop button\" is. Also be sure that you saved your Jupyter Notebook, because sometimes completely closing out of the Jupyter Notebook is the only way to escape the infinite loop."
      ]
    }
  ]
}