{
  "nbformat": 4,
  "nbformat_minor": 0,
  "metadata": {
    "kernelspec": {
      "display_name": "Python 3",
      "language": "python",
      "name": "python3"
    },
    "language_info": {
      "codemirror_mode": {
        "name": "ipython",
        "version": 3
      },
      "file_extension": ".py",
      "mimetype": "text/x-python",
      "name": "python",
      "nbconvert_exporter": "python",
      "pygments_lexer": "ipython3",
      "version": "3.7.4"
    },
    "colab": {
      "name": "Prob_Set_1.ipynb",
      "provenance": []
    }
  },
  "cells": [
    {
      "cell_type": "markdown",
      "metadata": {
        "id": "WNICyTEQ1iC3",
        "colab_type": "text"
      },
      "source": [
        "# Problem Set 1: Python Introduction\n",
        "Due January 29th at 10:00 pm\n",
        "\n",
        "Before working on this notebook, I recommend creating a file called \"Working Problem Set 1\". When the file is ready to grade, make a copy and rename that copy \"Final Problem Set 1\". Make sure that \"Final Problem Set 1\" resides in the same folder that the problem set was originally assigned."
      ]
    },
    {
      "cell_type": "markdown",
      "metadata": {
        "id": "Kh-_zdSv1iC5",
        "colab_type": "text"
      },
      "source": [
        "## <center><font color='blue'>Problem 1</font></center>"
      ]
    },
    {
      "cell_type": "markdown",
      "metadata": {
        "id": "sMEYZqow1iC6",
        "colab_type": "text"
      },
      "source": [
        "\n",
        "Evaluate the following expressions for $x = 2\\pi$:\n",
        "<ul>\n",
        "    <li>$y = e^x$</li>\n",
        "    <li>$y = cos(x)$</li>\n",
        "    <li>$y = ln(x)$ <b>(Note: natural log)</b></li>\n",
        "    <li>$y = log(x)$ <b>(Note: log base 10)</b></li>\n",
        "    <li>$y = \\sqrt x$</li>\n",
        "    <li>$y = x^3$</li>\n",
        "    \n",
        "</ul>\n",
        "\n",
        "Use the six Code cells below with the corresponding comment:"
      ]
    },
    {
      "cell_type": "code",
      "metadata": {
        "id": "opFM3dJ63t-g",
        "colab_type": "code",
        "colab": {}
      },
      "source": [
        "from math import *\n",
        "x = 2 * pi"
      ],
      "execution_count": 0,
      "outputs": []
    },
    {
      "cell_type": "code",
      "metadata": {
        "id": "7H_rBueg1iC7",
        "colab_type": "code",
        "colab": {
          "base_uri": "https://localhost:8080/",
          "height": 35
        },
        "outputId": "95cc041f-c2fd-49d6-c7b2-fb50a59118a5"
      },
      "source": [
        "# y = e^x\n",
        "y = e ** x\n",
        "print(y)"
      ],
      "execution_count": 42,
      "outputs": [
        {
          "output_type": "stream",
          "text": [
            "535.4916555247644\n"
          ],
          "name": "stdout"
        }
      ]
    },
    {
      "cell_type": "code",
      "metadata": {
        "id": "wR0ByIRs1iC-",
        "colab_type": "code",
        "colab": {
          "base_uri": "https://localhost:8080/",
          "height": 35
        },
        "outputId": "f22790b2-9b7f-4604-af2a-e76ceac1399a"
      },
      "source": [
        "# y = cos(x)\n",
        "y = cos(x)\n",
        "print(y)"
      ],
      "execution_count": 43,
      "outputs": [
        {
          "output_type": "stream",
          "text": [
            "1.0\n"
          ],
          "name": "stdout"
        }
      ]
    },
    {
      "cell_type": "code",
      "metadata": {
        "id": "4eXsdwmJ1iDA",
        "colab_type": "code",
        "colab": {
          "base_uri": "https://localhost:8080/",
          "height": 35
        },
        "outputId": "d6d892cd-ba61-4b70-ddd7-bfb1289ae371"
      },
      "source": [
        "# y = ln(x)\n",
        "y = log(x)\n",
        "print(y)"
      ],
      "execution_count": 44,
      "outputs": [
        {
          "output_type": "stream",
          "text": [
            "1.8378770664093453\n"
          ],
          "name": "stdout"
        }
      ]
    },
    {
      "cell_type": "code",
      "metadata": {
        "id": "AiGXasq41iDE",
        "colab_type": "code",
        "colab": {
          "base_uri": "https://localhost:8080/",
          "height": 35
        },
        "outputId": "74884f0e-8b75-48ed-835c-162117d6ca2f"
      },
      "source": [
        "# y = log(x)\n",
        "y = log10(x)\n",
        "print(y)"
      ],
      "execution_count": 45,
      "outputs": [
        {
          "output_type": "stream",
          "text": [
            "0.798179868358115\n"
          ],
          "name": "stdout"
        }
      ]
    },
    {
      "cell_type": "code",
      "metadata": {
        "id": "4ucmnllE1iDG",
        "colab_type": "code",
        "colab": {
          "base_uri": "https://localhost:8080/",
          "height": 35
        },
        "outputId": "03e07df2-cf63-422d-d755-172cc4955d22"
      },
      "source": [
        "# y = sqrt(x)\n",
        "y = sqrt(x)\n",
        "print(y)"
      ],
      "execution_count": 46,
      "outputs": [
        {
          "output_type": "stream",
          "text": [
            "2.5066282746310002\n"
          ],
          "name": "stdout"
        }
      ]
    },
    {
      "cell_type": "code",
      "metadata": {
        "id": "16edBs1w1iDI",
        "colab_type": "code",
        "colab": {
          "base_uri": "https://localhost:8080/",
          "height": 35
        },
        "outputId": "d3f11a78-3870-4e16-f66e-d65e99504be0"
      },
      "source": [
        "# y = x^3\n",
        "y = x ** 3\n",
        "print(y)"
      ],
      "execution_count": 47,
      "outputs": [
        {
          "output_type": "stream",
          "text": [
            "248.05021344239853\n"
          ],
          "name": "stdout"
        }
      ]
    },
    {
      "cell_type": "markdown",
      "metadata": {
        "id": "pnDyU78r1iDK",
        "colab_type": "text"
      },
      "source": [
        "<a href='#Top'>Return to top</a>"
      ]
    },
    {
      "cell_type": "markdown",
      "metadata": {
        "id": "uycANu061iDL",
        "colab_type": "text"
      },
      "source": [
        "## <center><font color='blue'>Problem 2</font></center>"
      ]
    },
    {
      "cell_type": "markdown",
      "metadata": {
        "id": "BVRHnOfb1iDL",
        "colab_type": "text"
      },
      "source": [
        "Fibonacci Numbers form a sequence such that each number is the sum of the previous two. The sequence goes as follows:\n",
        "\n",
        "0, 1, 1, 2, 3, 5, 8, 13, 21, 34, 55, ......\n",
        "\n",
        "https://en.wikipedia.org/wiki/Fibonacci_number\n",
        "\n",
        "In the following code block, assign the first two values in the Fibonacci Sequence, x = 0 and y = 1. Write a <b>while loop</b> that prints the rest of the Fibonacci Numbers in this sequence that are less than 10,000."
      ]
    },
    {
      "cell_type": "code",
      "metadata": {
        "id": "YBc5S3il1iDM",
        "colab_type": "code",
        "colab": {
          "base_uri": "https://localhost:8080/",
          "height": 395
        },
        "outputId": "97440b39-a46d-4d9a-c1ab-c211f2aa5593"
      },
      "source": [
        "# Write a while loop in this cell\n",
        "x = 0\n",
        "y = 1\n",
        "print(x)\n",
        "while y <= 10000:\n",
        "  print(y)\n",
        "  z = y\n",
        "  y = x + y\n",
        "  x = z"
      ],
      "execution_count": 14,
      "outputs": [
        {
          "output_type": "stream",
          "text": [
            "0\n",
            "1\n",
            "1\n",
            "2\n",
            "3\n",
            "5\n",
            "8\n",
            "13\n",
            "21\n",
            "34\n",
            "55\n",
            "89\n",
            "144\n",
            "233\n",
            "377\n",
            "610\n",
            "987\n",
            "1597\n",
            "2584\n",
            "4181\n",
            "6765\n"
          ],
          "name": "stdout"
        }
      ]
    },
    {
      "cell_type": "markdown",
      "metadata": {
        "id": "39ffQdSW1iDO",
        "colab_type": "text"
      },
      "source": [
        "<a href='#Top'>Return to top</a>"
      ]
    },
    {
      "cell_type": "markdown",
      "metadata": {
        "id": "VZUOe2rw1iDP",
        "colab_type": "text"
      },
      "source": [
        "## <center><font color = \"blue\">Problem 3</font></center>"
      ]
    },
    {
      "cell_type": "markdown",
      "metadata": {
        "id": "ak8wIseD1iDQ",
        "colab_type": "text"
      },
      "source": [
        "\n",
        "Correct the code/markdown in the following cells based on the comment in each cell. "
      ]
    },
    {
      "cell_type": "code",
      "metadata": {
        "id": "KOD1oeaI1iDQ",
        "colab_type": "code",
        "colab": {
          "base_uri": "https://localhost:8080/",
          "height": 197
        },
        "outputId": "ba6be81f-cac0-4779-ea25-bed02a022378"
      },
      "source": [
        "# This code attempts to run a for loop that counts from 1 to 10\n",
        "for x in range(1,11):\n",
        "  print(x)"
      ],
      "execution_count": 18,
      "outputs": [
        {
          "output_type": "stream",
          "text": [
            "1\n",
            "2\n",
            "3\n",
            "4\n",
            "5\n",
            "6\n",
            "7\n",
            "8\n",
            "9\n",
            "10\n"
          ],
          "name": "stdout"
        }
      ]
    },
    {
      "cell_type": "code",
      "metadata": {
        "id": "XelkbglF1iDS",
        "colab_type": "code",
        "colab": {
          "base_uri": "https://localhost:8080/",
          "height": 35
        },
        "outputId": "2ac889a5-0a86-4223-903d-7e6739ae1d68"
      },
      "source": [
        "# One groundwater modeling approximation, Dupuit-Forchheimer, is based on a mathematical trick that takes advantage of the fact that infinity times zero can equal anything. \n",
        "# The following code attempts to determine what that product is, but something is wrong. Fix the code.\n",
        "# Hint: The answer should be \"nan\", which in Python means \"not a number\". We will talk more about nan's later in the semester.\n",
        "# Hint: Look through the documentation for the Math module.\n",
        "\n",
        "x = inf*0\n",
        "print(x)"
      ],
      "execution_count": 21,
      "outputs": [
        {
          "output_type": "stream",
          "text": [
            "nan\n"
          ],
          "name": "stdout"
        }
      ]
    },
    {
      "cell_type": "code",
      "metadata": {
        "id": "S8vRv-dq1iDT",
        "colab_type": "code",
        "colab": {
          "base_uri": "https://localhost:8080/",
          "height": 143
        },
        "outputId": "e5654d14-e6d6-4a92-d5cb-80499dab76ae"
      },
      "source": [
        "# The following code attempts to calculate the cosine starting at 0 and ending at 360 degrees, in increments of sixty degrees.\n",
        "# Hint: The first and last output in the loop should be 1.0 , and there should be a total of 7 outputs in the loop.    \n",
        "for x in range(0,361,60):\n",
        "   y = cos(radians(x))\n",
        "   print(y)"
      ],
      "execution_count": 49,
      "outputs": [
        {
          "output_type": "stream",
          "text": [
            "1.0\n",
            "0.5000000000000001\n",
            "-0.4999999999999998\n",
            "-1.0\n",
            "-0.5000000000000004\n",
            "0.5000000000000001\n",
            "1.0\n"
          ],
          "name": "stdout"
        }
      ]
    },
    {
      "cell_type": "markdown",
      "metadata": {
        "id": "UBV_e65S1iDV",
        "colab_type": "text"
      },
      "source": [
        "<a href='#Top'>Return to top</a>"
      ]
    },
    {
      "cell_type": "markdown",
      "metadata": {
        "id": "1bf3XUA01iDV",
        "colab_type": "text"
      },
      "source": [
        "## <center><font color = \"blue\">Problem 4</font></center>"
      ]
    },
    {
      "cell_type": "markdown",
      "metadata": {
        "id": "Vy2mwOBf1iDW",
        "colab_type": "text"
      },
      "source": [
        "\n",
        "A sand aquifer extends under Champaign-Urbana:\n",
        "<ul>\n",
        "    <li>$k = 0.001$ $cm/s$</li>\n",
        "    <li>$n = 0.2$</li>\n",
        "    <li>$h1 = 205$ $m$</li>\n",
        "    <li>$h2 = 210$ $m$</li>\n",
        "    <li>$\\Delta l = 1$ $km$</li>\n",
        "</ul>\n",
        "\n",
        "Where k is the hydraulic conductivity, n is the porosity, h1 and h2 are the heads at a distance of $\\Delta l$ apart.\n",
        "\n",
        "Write codes that calculate: 1) the hydraulic gradient, 2) specific discharge, 3) groundwater velocity, and 4) transit time of groundwater over the distance $\\Delta l$. Use the four Code Cells below."
      ]
    },
    {
      "cell_type": "code",
      "metadata": {
        "id": "JQS9hYnvMcKw",
        "colab_type": "code",
        "colab": {}
      },
      "source": [
        "k = 0.001\n",
        "n = 0.2\n",
        "h1 = 205\n",
        "h2 = 210\n",
        "l = 1000"
      ],
      "execution_count": 0,
      "outputs": []
    },
    {
      "cell_type": "code",
      "metadata": {
        "id": "LSTCk9X91iDX",
        "colab_type": "code",
        "outputId": "bc64c8b4-840a-4213-e416-69d506e3cc68",
        "colab": {
          "base_uri": "https://localhost:8080/",
          "height": 35
        }
      },
      "source": [
        "# hydraulic gradient (no units)\n",
        "i = (h1-h2)/l\n",
        "print(i)"
      ],
      "execution_count": 52,
      "outputs": [
        {
          "output_type": "stream",
          "text": [
            "-0.005\n"
          ],
          "name": "stdout"
        }
      ]
    },
    {
      "cell_type": "code",
      "metadata": {
        "scrolled": true,
        "id": "SzC3ARba1iDY",
        "colab_type": "code",
        "outputId": "26603330-a3e0-4465-cd4b-de39a35f3e55",
        "colab": {
          "base_uri": "https://localhost:8080/",
          "height": 35
        }
      },
      "source": [
        "# specific discharge (m/day)\n",
        "q = -k * i * 10**(-2) * 86400\n",
        "print(q)"
      ],
      "execution_count": 0,
      "outputs": [
        {
          "output_type": "stream",
          "text": [
            "0.00432\n"
          ],
          "name": "stdout"
        }
      ]
    },
    {
      "cell_type": "code",
      "metadata": {
        "id": "fuB2AXm91iDa",
        "colab_type": "code",
        "outputId": "82fe4c57-9b61-4069-ee81-d82db9650c71",
        "colab": {
          "base_uri": "https://localhost:8080/",
          "height": 35
        }
      },
      "source": [
        "# groundwater velocity (m/day)\n",
        "v = q/n\n",
        "print(v)"
      ],
      "execution_count": 0,
      "outputs": [
        {
          "output_type": "stream",
          "text": [
            "0.021599999999999998\n"
          ],
          "name": "stdout"
        }
      ]
    },
    {
      "cell_type": "code",
      "metadata": {
        "id": "Xrgt40EI1iDc",
        "colab_type": "code",
        "outputId": "b1a1b604-1dd4-45d4-aab1-8fa303847377",
        "colab": {
          "base_uri": "https://localhost:8080/",
          "height": 35
        }
      },
      "source": [
        "# transit time (years)\n",
        "t = l/v/365\n",
        "print(t)"
      ],
      "execution_count": 0,
      "outputs": [
        {
          "output_type": "stream",
          "text": [
            "126.83916793505836\n"
          ],
          "name": "stdout"
        }
      ]
    },
    {
      "cell_type": "markdown",
      "metadata": {
        "id": "gwNFfKLe1iDd",
        "colab_type": "text"
      },
      "source": [
        "<a href='#Top'>Return to top</a>"
      ]
    }
  ]
}